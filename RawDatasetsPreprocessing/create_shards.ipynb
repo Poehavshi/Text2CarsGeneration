{
 "cells": [
  {
   "cell_type": "code",
   "execution_count": 38,
   "id": "ef8d33cb",
   "metadata": {},
   "outputs": [],
   "source": [
    "import os\n",
    "import matplotlib.pyplot as plt\n",
    "import numpy as np\n",
    "import pandas as pd\n",
    "\n",
    "from PIL import Image\n",
    "from pathlib import Path\n",
    "from matplotlib.patches import Rectangle\n",
    "from scipy.io import loadmat"
   ]
  },
  {
   "cell_type": "markdown",
   "id": "ca07e6db",
   "metadata": {},
   "source": [
    "# Stanford Cars dataset reading"
   ]
  },
  {
   "cell_type": "code",
   "execution_count": 43,
   "id": "c0dda88d",
   "metadata": {},
   "outputs": [],
   "source": [
    "devkit_path = Path('StanfordCarsDataset/devkit')\n",
    "train_path = Path('StanfordCarsDataset/cars_train')\n",
    "test_path = Path('StanfordCarsDataset/cars_test')"
   ]
  },
  {
   "cell_type": "markdown",
   "id": "aaa7af29",
   "metadata": {},
   "source": [
    "## DevKit"
   ]
  },
  {
   "cell_type": "code",
   "execution_count": 40,
   "id": "bc5229c1",
   "metadata": {},
   "outputs": [
    {
     "data": {
      "text/plain": [
       "['cars_meta.mat',\n",
       " 'cars_test_annos.mat',\n",
       " 'cars_train_annos.mat',\n",
       " 'eval_train.m',\n",
       " 'README.txt',\n",
       " 'train_perfect_preds.txt']"
      ]
     },
     "execution_count": 40,
     "metadata": {},
     "output_type": "execute_result"
    }
   ],
   "source": [
    "os.listdir(devkit_path)"
   ]
  },
  {
   "cell_type": "code",
   "execution_count": 42,
   "id": "e6bb2946",
   "metadata": {},
   "outputs": [
    {
     "name": "stdout",
     "output_type": "stream",
     "text": [
      "This file gives documentation for the cars 196 dataset.\n",
      "\n",
      "(http://ai.stanford.edu/~jkrause/cars/car_dataset.html)\n",
      "\n",
      "\n",
      "\n",
      "----------------------------------------\n",
      "\n",
      "Metadata/Annotations\n",
      "\n",
      "----------------------------------------\n",
      "\n",
      "Descriptions of the files are as follows:\n",
      "\n",
      "\n",
      "\n",
      "-cars_meta.mat:\n",
      "\n",
      "  Contains a cell array of class names, one for each class.\n",
      "\n",
      "\n",
      "\n",
      "-cars_train_annos.mat:\n",
      "\n",
      "  Contains the variable 'annotations', which is a struct array of length\n",
      "\n",
      "  num_images and where each element has the fields:\n",
      "\n",
      "    bbox_x1: Min x-value of the bounding box, in pixels\n",
      "\n",
      "    bbox_x2: Max x-value of the bounding box, in pixels\n",
      "\n",
      "    bbox_y1: Min y-value of the bounding box, in pixels\n",
      "\n",
      "    bbox_y2: Max y-value of the bounding box, in pixels\n",
      "\n",
      "    class: Integral id of the class the image belongs to.\n",
      "\n",
      "    fname: Filename of the image within the folder of images.\n",
      "\n",
      "\n",
      "\n",
      "-cars_test_annos.mat:\n",
      "\n",
      "  Same format as 'cars_train_annos.mat', except the class is not provided.\n",
      "\n",
      "\n",
      "\n",
      "----------------------------------------\n",
      "\n",
      "Submission file format\n",
      "\n",
      "----------------------------------------\n",
      "\n",
      "Files for submission should be .txt files with the class prediction for\n",
      "\n",
      "image M on line M. Note that image M corresponds to the Mth annotation in\n",
      "\n",
      "the provided annotation file. An example of a file in this format is\n",
      "\n",
      "train_perfect_preds.txt\n",
      "\n",
      "\n",
      "\n",
      "Included in the devkit are a script for evaluating training accuracy,\n",
      "\n",
      "eval_train.m. Usage is:\n",
      "\n",
      "\n",
      "\n",
      "(in MATLAB)\n",
      "\n",
      ">> [accuracy, confusion_matrix] = eval_train('train_perfect_preds.txt')\n",
      "\n",
      "\n",
      "\n",
      "If your training predictions work with this function then your testing\n",
      "\n",
      "predictions should be good to go for the evaluation server, assuming\n",
      "\n",
      "that they're in the same format as your training predictions.\n",
      "\n"
     ]
    }
   ],
   "source": [
    "with open(devkit_path/'README.txt') as f:\n",
    "    for line in f:\n",
    "        print(line)"
   ]
  },
  {
   "cell_type": "code",
   "execution_count": null,
   "id": "b78325a5",
   "metadata": {},
   "outputs": [],
   "source": [
    "cars_meta = loadmat(devkit_path/'cars_meta.mat')\n",
    "cars_train_annos = loadmat(devkit_path/'cars_train_annos.mat')"
   ]
  }
 ],
 "metadata": {
  "kernelspec": {
   "display_name": "Python 3 (ipykernel)",
   "language": "python",
   "name": "python3"
  },
  "language_info": {
   "codemirror_mode": {
    "name": "ipython",
    "version": 3
   },
   "file_extension": ".py",
   "mimetype": "text/x-python",
   "name": "python",
   "nbconvert_exporter": "python",
   "pygments_lexer": "ipython3",
   "version": "3.9.7"
  }
 },
 "nbformat": 4,
 "nbformat_minor": 5
}
